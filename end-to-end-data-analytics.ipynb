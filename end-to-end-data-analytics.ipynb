{
 "cells": [
  {
   "cell_type": "code",
   "execution_count": 1,
   "id": "21496ac6",
   "metadata": {
    "_cell_guid": "b1076dfc-b9ad-4769-8c92-a6c4dae69d19",
    "_uuid": "8f2839f25d086af736a60e9eeb907d3b93b6e0e5",
    "execution": {
     "iopub.execute_input": "2024-05-12T18:02:59.817659Z",
     "iopub.status.busy": "2024-05-12T18:02:59.816980Z",
     "iopub.status.idle": "2024-05-12T18:03:00.836113Z",
     "shell.execute_reply": "2024-05-12T18:03:00.834850Z"
    },
    "papermill": {
     "duration": 1.031841,
     "end_time": "2024-05-12T18:03:00.838777",
     "exception": false,
     "start_time": "2024-05-12T18:02:59.806936",
     "status": "completed"
    },
    "tags": []
   },
   "outputs": [
    {
     "name": "stdout",
     "output_type": "stream",
     "text": [
      "/kaggle/input/superstore-data/superstore_dataset2011-2015.csv\n"
     ]
    }
   ],
   "source": [
    "# This Python 3 environment comes with many helpful analytics libraries installed\n",
    "# It is defined by the kaggle/python Docker image: https://github.com/kaggle/docker-python\n",
    "# For example, here's several helpful packages to load\n",
    "\n",
    "import numpy as np # linear algebra\n",
    "import pandas as pd # data processing, CSV file I/O (e.g. pd.read_csv)\n",
    "\n",
    "# Input data files are available in the read-only \"../input/\" directory\n",
    "# For example, running this (by clicking run or pressing Shift+Enter) will list all files under the input directory\n",
    "\n",
    "import os\n",
    "for dirname, _, filenames in os.walk('/kaggle/input'):\n",
    "    for filename in filenames:\n",
    "        print(os.path.join(dirname, filename))\n",
    "\n",
    "# You can write up to 20GB to the current directory (/kaggle/working/) that gets preserved as output when you create a version using \"Save & Run All\" \n",
    "# You can also write temporary files to /kaggle/temp/, but they won't be saved outside of the current session"
   ]
  },
  {
   "cell_type": "code",
   "execution_count": 2,
   "id": "0e4c7079",
   "metadata": {
    "execution": {
     "iopub.execute_input": "2024-05-12T18:03:00.855834Z",
     "iopub.status.busy": "2024-05-12T18:03:00.855276Z",
     "iopub.status.idle": "2024-05-12T18:03:02.412936Z",
     "shell.execute_reply": "2024-05-12T18:03:02.411901Z"
    },
    "papermill": {
     "duration": 1.569392,
     "end_time": "2024-05-12T18:03:02.415922",
     "exception": false,
     "start_time": "2024-05-12T18:03:00.846530",
     "status": "completed"
    },
    "tags": []
   },
   "outputs": [],
   "source": [
    "import pandas as pd\n",
    "import numpy as np\n",
    "import seaborn as sns\n",
    "import matplotlib.pyplot as plt"
   ]
  },
  {
   "cell_type": "code",
   "execution_count": 3,
   "id": "e5cf4b92",
   "metadata": {
    "execution": {
     "iopub.execute_input": "2024-05-12T18:03:02.435252Z",
     "iopub.status.busy": "2024-05-12T18:03:02.434589Z",
     "iopub.status.idle": "2024-05-12T18:03:02.441168Z",
     "shell.execute_reply": "2024-05-12T18:03:02.439698Z"
    },
    "papermill": {
     "duration": 0.01867,
     "end_time": "2024-05-12T18:03:02.443852",
     "exception": false,
     "start_time": "2024-05-12T18:03:02.425182",
     "status": "completed"
    },
    "tags": []
   },
   "outputs": [],
   "source": [
    "pd.set_option('display.float_format', lambda x: '%0.3f' % x)"
   ]
  },
  {
   "cell_type": "code",
   "execution_count": 4,
   "id": "200c0c41",
   "metadata": {
    "execution": {
     "iopub.execute_input": "2024-05-12T18:03:02.462723Z",
     "iopub.status.busy": "2024-05-12T18:03:02.462285Z",
     "iopub.status.idle": "2024-05-12T18:03:02.467053Z",
     "shell.execute_reply": "2024-05-12T18:03:02.465726Z"
    },
    "papermill": {
     "duration": 0.017406,
     "end_time": "2024-05-12T18:03:02.469385",
     "exception": false,
     "start_time": "2024-05-12T18:03:02.451979",
     "status": "completed"
    },
    "tags": []
   },
   "outputs": [],
   "source": [
    "import warnings\n",
    "warnings.filterwarnings('ignore')"
   ]
  },
  {
   "cell_type": "code",
   "execution_count": 5,
   "id": "8cfc3ac1",
   "metadata": {
    "execution": {
     "iopub.execute_input": "2024-05-12T18:03:02.487201Z",
     "iopub.status.busy": "2024-05-12T18:03:02.486782Z",
     "iopub.status.idle": "2024-05-12T18:03:03.018164Z",
     "shell.execute_reply": "2024-05-12T18:03:03.016045Z"
    },
    "papermill": {
     "duration": 0.544485,
     "end_time": "2024-05-12T18:03:03.022287",
     "exception": false,
     "start_time": "2024-05-12T18:03:02.477802",
     "status": "completed"
    },
    "tags": []
   },
   "outputs": [],
   "source": [
    "data= pd.read_csv('/kaggle/input/superstore-data/superstore_dataset2011-2015.csv', encoding = 'ISO-8859-1')"
   ]
  },
  {
   "cell_type": "code",
   "execution_count": 6,
   "id": "75822053",
   "metadata": {
    "execution": {
     "iopub.execute_input": "2024-05-12T18:03:03.040436Z",
     "iopub.status.busy": "2024-05-12T18:03:03.039985Z",
     "iopub.status.idle": "2024-05-12T18:03:03.088219Z",
     "shell.execute_reply": "2024-05-12T18:03:03.086287Z"
    },
    "papermill": {
     "duration": 0.061099,
     "end_time": "2024-05-12T18:03:03.091529",
     "exception": false,
     "start_time": "2024-05-12T18:03:03.030430",
     "status": "completed"
    },
    "tags": []
   },
   "outputs": [
    {
     "data": {
      "text/html": [
       "<div>\n",
       "<style scoped>\n",
       "    .dataframe tbody tr th:only-of-type {\n",
       "        vertical-align: middle;\n",
       "    }\n",
       "\n",
       "    .dataframe tbody tr th {\n",
       "        vertical-align: top;\n",
       "    }\n",
       "\n",
       "    .dataframe thead th {\n",
       "        text-align: right;\n",
       "    }\n",
       "</style>\n",
       "<table border=\"1\" class=\"dataframe\">\n",
       "  <thead>\n",
       "    <tr style=\"text-align: right;\">\n",
       "      <th></th>\n",
       "      <th>Row ID</th>\n",
       "      <th>Order ID</th>\n",
       "      <th>Order Date</th>\n",
       "      <th>Ship Date</th>\n",
       "      <th>Ship Mode</th>\n",
       "      <th>Customer ID</th>\n",
       "      <th>Customer Name</th>\n",
       "      <th>Segment</th>\n",
       "      <th>City</th>\n",
       "      <th>State</th>\n",
       "      <th>...</th>\n",
       "      <th>Product ID</th>\n",
       "      <th>Category</th>\n",
       "      <th>Sub-Category</th>\n",
       "      <th>Product Name</th>\n",
       "      <th>Sales</th>\n",
       "      <th>Quantity</th>\n",
       "      <th>Discount</th>\n",
       "      <th>Profit</th>\n",
       "      <th>Shipping Cost</th>\n",
       "      <th>Order Priority</th>\n",
       "    </tr>\n",
       "  </thead>\n",
       "  <tbody>\n",
       "    <tr>\n",
       "      <th>0</th>\n",
       "      <td>42433</td>\n",
       "      <td>AG-2011-2040</td>\n",
       "      <td>1/1/2011</td>\n",
       "      <td>6/1/2011</td>\n",
       "      <td>Standard Class</td>\n",
       "      <td>TB-11280</td>\n",
       "      <td>Toby Braunhardt</td>\n",
       "      <td>Consumer</td>\n",
       "      <td>Constantine</td>\n",
       "      <td>Constantine</td>\n",
       "      <td>...</td>\n",
       "      <td>OFF-TEN-10000025</td>\n",
       "      <td>Office Supplies</td>\n",
       "      <td>Storage</td>\n",
       "      <td>Tenex Lockers, Blue</td>\n",
       "      <td>408.300</td>\n",
       "      <td>2</td>\n",
       "      <td>0.000</td>\n",
       "      <td>106.140</td>\n",
       "      <td>35.460</td>\n",
       "      <td>Medium</td>\n",
       "    </tr>\n",
       "    <tr>\n",
       "      <th>1</th>\n",
       "      <td>22253</td>\n",
       "      <td>IN-2011-47883</td>\n",
       "      <td>1/1/2011</td>\n",
       "      <td>8/1/2011</td>\n",
       "      <td>Standard Class</td>\n",
       "      <td>JH-15985</td>\n",
       "      <td>Joseph Holt</td>\n",
       "      <td>Consumer</td>\n",
       "      <td>Wagga Wagga</td>\n",
       "      <td>New South Wales</td>\n",
       "      <td>...</td>\n",
       "      <td>OFF-SU-10000618</td>\n",
       "      <td>Office Supplies</td>\n",
       "      <td>Supplies</td>\n",
       "      <td>Acme Trimmer, High Speed</td>\n",
       "      <td>120.366</td>\n",
       "      <td>3</td>\n",
       "      <td>0.100</td>\n",
       "      <td>36.036</td>\n",
       "      <td>9.720</td>\n",
       "      <td>Medium</td>\n",
       "    </tr>\n",
       "    <tr>\n",
       "      <th>2</th>\n",
       "      <td>48883</td>\n",
       "      <td>HU-2011-1220</td>\n",
       "      <td>1/1/2011</td>\n",
       "      <td>5/1/2011</td>\n",
       "      <td>Second Class</td>\n",
       "      <td>AT-735</td>\n",
       "      <td>Annie Thurman</td>\n",
       "      <td>Consumer</td>\n",
       "      <td>Budapest</td>\n",
       "      <td>Budapest</td>\n",
       "      <td>...</td>\n",
       "      <td>OFF-TEN-10001585</td>\n",
       "      <td>Office Supplies</td>\n",
       "      <td>Storage</td>\n",
       "      <td>Tenex Box, Single Width</td>\n",
       "      <td>66.120</td>\n",
       "      <td>4</td>\n",
       "      <td>0.000</td>\n",
       "      <td>29.640</td>\n",
       "      <td>8.170</td>\n",
       "      <td>High</td>\n",
       "    </tr>\n",
       "    <tr>\n",
       "      <th>3</th>\n",
       "      <td>11731</td>\n",
       "      <td>IT-2011-3647632</td>\n",
       "      <td>1/1/2011</td>\n",
       "      <td>5/1/2011</td>\n",
       "      <td>Second Class</td>\n",
       "      <td>EM-14140</td>\n",
       "      <td>Eugene Moren</td>\n",
       "      <td>Home Office</td>\n",
       "      <td>Stockholm</td>\n",
       "      <td>Stockholm</td>\n",
       "      <td>...</td>\n",
       "      <td>OFF-PA-10001492</td>\n",
       "      <td>Office Supplies</td>\n",
       "      <td>Paper</td>\n",
       "      <td>Enermax Note Cards, Premium</td>\n",
       "      <td>44.865</td>\n",
       "      <td>3</td>\n",
       "      <td>0.500</td>\n",
       "      <td>-26.055</td>\n",
       "      <td>4.820</td>\n",
       "      <td>High</td>\n",
       "    </tr>\n",
       "    <tr>\n",
       "      <th>4</th>\n",
       "      <td>22255</td>\n",
       "      <td>IN-2011-47883</td>\n",
       "      <td>1/1/2011</td>\n",
       "      <td>8/1/2011</td>\n",
       "      <td>Standard Class</td>\n",
       "      <td>JH-15985</td>\n",
       "      <td>Joseph Holt</td>\n",
       "      <td>Consumer</td>\n",
       "      <td>Wagga Wagga</td>\n",
       "      <td>New South Wales</td>\n",
       "      <td>...</td>\n",
       "      <td>FUR-FU-10003447</td>\n",
       "      <td>Furniture</td>\n",
       "      <td>Furnishings</td>\n",
       "      <td>Eldon Light Bulb, Duo Pack</td>\n",
       "      <td>113.670</td>\n",
       "      <td>5</td>\n",
       "      <td>0.100</td>\n",
       "      <td>37.770</td>\n",
       "      <td>4.700</td>\n",
       "      <td>Medium</td>\n",
       "    </tr>\n",
       "  </tbody>\n",
       "</table>\n",
       "<p>5 rows × 24 columns</p>\n",
       "</div>"
      ],
      "text/plain": [
       "   Row ID         Order ID Order Date Ship Date       Ship Mode Customer ID  \\\n",
       "0   42433     AG-2011-2040   1/1/2011  6/1/2011  Standard Class    TB-11280   \n",
       "1   22253    IN-2011-47883   1/1/2011  8/1/2011  Standard Class    JH-15985   \n",
       "2   48883     HU-2011-1220   1/1/2011  5/1/2011    Second Class      AT-735   \n",
       "3   11731  IT-2011-3647632   1/1/2011  5/1/2011    Second Class    EM-14140   \n",
       "4   22255    IN-2011-47883   1/1/2011  8/1/2011  Standard Class    JH-15985   \n",
       "\n",
       "     Customer Name      Segment         City            State  ...  \\\n",
       "0  Toby Braunhardt     Consumer  Constantine      Constantine  ...   \n",
       "1      Joseph Holt     Consumer  Wagga Wagga  New South Wales  ...   \n",
       "2    Annie Thurman     Consumer     Budapest         Budapest  ...   \n",
       "3     Eugene Moren  Home Office    Stockholm        Stockholm  ...   \n",
       "4      Joseph Holt     Consumer  Wagga Wagga  New South Wales  ...   \n",
       "\n",
       "         Product ID         Category Sub-Category  \\\n",
       "0  OFF-TEN-10000025  Office Supplies      Storage   \n",
       "1   OFF-SU-10000618  Office Supplies     Supplies   \n",
       "2  OFF-TEN-10001585  Office Supplies      Storage   \n",
       "3   OFF-PA-10001492  Office Supplies        Paper   \n",
       "4   FUR-FU-10003447        Furniture  Furnishings   \n",
       "\n",
       "                  Product Name   Sales Quantity Discount  Profit  \\\n",
       "0          Tenex Lockers, Blue 408.300        2    0.000 106.140   \n",
       "1     Acme Trimmer, High Speed 120.366        3    0.100  36.036   \n",
       "2      Tenex Box, Single Width  66.120        4    0.000  29.640   \n",
       "3  Enermax Note Cards, Premium  44.865        3    0.500 -26.055   \n",
       "4   Eldon Light Bulb, Duo Pack 113.670        5    0.100  37.770   \n",
       "\n",
       "   Shipping Cost  Order Priority  \n",
       "0         35.460          Medium  \n",
       "1          9.720          Medium  \n",
       "2          8.170            High  \n",
       "3          4.820            High  \n",
       "4          4.700          Medium  \n",
       "\n",
       "[5 rows x 24 columns]"
      ]
     },
     "execution_count": 6,
     "metadata": {},
     "output_type": "execute_result"
    }
   ],
   "source": [
    "data.head()"
   ]
  },
  {
   "cell_type": "code",
   "execution_count": 7,
   "id": "fccd7489",
   "metadata": {
    "execution": {
     "iopub.execute_input": "2024-05-12T18:03:03.111292Z",
     "iopub.status.busy": "2024-05-12T18:03:03.110645Z",
     "iopub.status.idle": "2024-05-12T18:03:03.119117Z",
     "shell.execute_reply": "2024-05-12T18:03:03.116834Z"
    },
    "papermill": {
     "duration": 0.021093,
     "end_time": "2024-05-12T18:03:03.122251",
     "exception": false,
     "start_time": "2024-05-12T18:03:03.101158",
     "status": "completed"
    },
    "tags": []
   },
   "outputs": [
    {
     "data": {
      "text/plain": [
       "(51290, 24)"
      ]
     },
     "execution_count": 7,
     "metadata": {},
     "output_type": "execute_result"
    }
   ],
   "source": [
    "data.shape"
   ]
  },
  {
   "cell_type": "code",
   "execution_count": 8,
   "id": "f305e882",
   "metadata": {
    "execution": {
     "iopub.execute_input": "2024-05-12T18:03:03.141073Z",
     "iopub.status.busy": "2024-05-12T18:03:03.140599Z",
     "iopub.status.idle": "2024-05-12T18:03:03.150231Z",
     "shell.execute_reply": "2024-05-12T18:03:03.148862Z"
    },
    "papermill": {
     "duration": 0.022574,
     "end_time": "2024-05-12T18:03:03.153705",
     "exception": false,
     "start_time": "2024-05-12T18:03:03.131131",
     "status": "completed"
    },
    "tags": []
   },
   "outputs": [
    {
     "data": {
      "text/plain": [
       "Index(['Row ID', 'Order ID', 'Order Date', 'Ship Date', 'Ship Mode',\n",
       "       'Customer ID', 'Customer Name', 'Segment', 'City', 'State', 'Country',\n",
       "       'Postal Code', 'Market', 'Region', 'Product ID', 'Category',\n",
       "       'Sub-Category', 'Product Name', 'Sales', 'Quantity', 'Discount',\n",
       "       'Profit', 'Shipping Cost', 'Order Priority'],\n",
       "      dtype='object')"
      ]
     },
     "execution_count": 8,
     "metadata": {},
     "output_type": "execute_result"
    }
   ],
   "source": [
    "data.columns"
   ]
  },
  {
   "cell_type": "markdown",
   "id": "a2dd03d2",
   "metadata": {
    "papermill": {
     "duration": 0.007889,
     "end_time": "2024-05-12T18:03:03.170563",
     "exception": false,
     "start_time": "2024-05-12T18:03:03.162674",
     "status": "completed"
    },
    "tags": []
   },
   "source": [
    "**CHECK missing Value**"
   ]
  },
  {
   "cell_type": "code",
   "execution_count": 9,
   "id": "102c74ec",
   "metadata": {
    "execution": {
     "iopub.execute_input": "2024-05-12T18:03:03.190317Z",
     "iopub.status.busy": "2024-05-12T18:03:03.189901Z",
     "iopub.status.idle": "2024-05-12T18:03:03.260723Z",
     "shell.execute_reply": "2024-05-12T18:03:03.259191Z"
    },
    "papermill": {
     "duration": 0.085014,
     "end_time": "2024-05-12T18:03:03.263683",
     "exception": false,
     "start_time": "2024-05-12T18:03:03.178669",
     "status": "completed"
    },
    "tags": []
   },
   "outputs": [
    {
     "name": "stdout",
     "output_type": "stream",
     "text": [
      "<class 'pandas.core.frame.DataFrame'>\n",
      "RangeIndex: 51290 entries, 0 to 51289\n",
      "Data columns (total 24 columns):\n",
      " #   Column          Non-Null Count  Dtype  \n",
      "---  ------          --------------  -----  \n",
      " 0   Row ID          51290 non-null  int64  \n",
      " 1   Order ID        51290 non-null  object \n",
      " 2   Order Date      51290 non-null  object \n",
      " 3   Ship Date       51290 non-null  object \n",
      " 4   Ship Mode       51290 non-null  object \n",
      " 5   Customer ID     51290 non-null  object \n",
      " 6   Customer Name   51290 non-null  object \n",
      " 7   Segment         51290 non-null  object \n",
      " 8   City            51290 non-null  object \n",
      " 9   State           51290 non-null  object \n",
      " 10  Country         51290 non-null  object \n",
      " 11  Postal Code     9994 non-null   float64\n",
      " 12  Market          51290 non-null  object \n",
      " 13  Region          51290 non-null  object \n",
      " 14  Product ID      51290 non-null  object \n",
      " 15  Category        51290 non-null  object \n",
      " 16  Sub-Category    51290 non-null  object \n",
      " 17  Product Name    51290 non-null  object \n",
      " 18  Sales           51290 non-null  float64\n",
      " 19  Quantity        51290 non-null  int64  \n",
      " 20  Discount        51290 non-null  float64\n",
      " 21  Profit          51290 non-null  float64\n",
      " 22  Shipping Cost   51290 non-null  float64\n",
      " 23  Order Priority  51290 non-null  object \n",
      "dtypes: float64(5), int64(2), object(17)\n",
      "memory usage: 9.4+ MB\n"
     ]
    }
   ],
   "source": [
    "data.info()"
   ]
  },
  {
   "cell_type": "code",
   "execution_count": 10,
   "id": "e8604ff7",
   "metadata": {
    "execution": {
     "iopub.execute_input": "2024-05-12T18:03:03.282142Z",
     "iopub.status.busy": "2024-05-12T18:03:03.281706Z",
     "iopub.status.idle": "2024-05-12T18:03:03.333579Z",
     "shell.execute_reply": "2024-05-12T18:03:03.332342Z"
    },
    "papermill": {
     "duration": 0.064075,
     "end_time": "2024-05-12T18:03:03.336187",
     "exception": false,
     "start_time": "2024-05-12T18:03:03.272112",
     "status": "completed"
    },
    "tags": []
   },
   "outputs": [
    {
     "data": {
      "text/plain": [
       "Row ID                0\n",
       "Order ID              0\n",
       "Order Date            0\n",
       "Ship Date             0\n",
       "Ship Mode             0\n",
       "Customer ID           0\n",
       "Customer Name         0\n",
       "Segment               0\n",
       "City                  0\n",
       "State                 0\n",
       "Country               0\n",
       "Postal Code       41296\n",
       "Market                0\n",
       "Region                0\n",
       "Product ID            0\n",
       "Category              0\n",
       "Sub-Category          0\n",
       "Product Name          0\n",
       "Sales                 0\n",
       "Quantity              0\n",
       "Discount              0\n",
       "Profit                0\n",
       "Shipping Cost         0\n",
       "Order Priority        0\n",
       "dtype: int64"
      ]
     },
     "execution_count": 10,
     "metadata": {},
     "output_type": "execute_result"
    }
   ],
   "source": [
    "data.isnull().sum()"
   ]
  },
  {
   "cell_type": "markdown",
   "id": "6d890c2e",
   "metadata": {
    "papermill": {
     "duration": 0.008141,
     "end_time": "2024-05-12T18:03:03.352793",
     "exception": false,
     "start_time": "2024-05-12T18:03:03.344652",
     "status": "completed"
    },
    "tags": []
   },
   "source": [
    "**Check Duplicate Value**"
   ]
  },
  {
   "cell_type": "code",
   "execution_count": 11,
   "id": "1180d29f",
   "metadata": {
    "execution": {
     "iopub.execute_input": "2024-05-12T18:03:03.372143Z",
     "iopub.status.busy": "2024-05-12T18:03:03.370809Z",
     "iopub.status.idle": "2024-05-12T18:03:03.471665Z",
     "shell.execute_reply": "2024-05-12T18:03:03.470489Z"
    },
    "papermill": {
     "duration": 0.114141,
     "end_time": "2024-05-12T18:03:03.475249",
     "exception": false,
     "start_time": "2024-05-12T18:03:03.361108",
     "status": "completed"
    },
    "tags": []
   },
   "outputs": [
    {
     "data": {
      "text/plain": [
       "False"
      ]
     },
     "execution_count": 11,
     "metadata": {},
     "output_type": "execute_result"
    }
   ],
   "source": [
    "data.duplicated().any()"
   ]
  },
  {
   "cell_type": "code",
   "execution_count": 12,
   "id": "bb971cf3",
   "metadata": {
    "execution": {
     "iopub.execute_input": "2024-05-12T18:03:03.494873Z",
     "iopub.status.busy": "2024-05-12T18:03:03.494460Z",
     "iopub.status.idle": "2024-05-12T18:03:03.548367Z",
     "shell.execute_reply": "2024-05-12T18:03:03.546810Z"
    },
    "papermill": {
     "duration": 0.067827,
     "end_time": "2024-05-12T18:03:03.551929",
     "exception": false,
     "start_time": "2024-05-12T18:03:03.484102",
     "status": "completed"
    },
    "tags": []
   },
   "outputs": [
    {
     "data": {
      "text/html": [
       "<div>\n",
       "<style scoped>\n",
       "    .dataframe tbody tr th:only-of-type {\n",
       "        vertical-align: middle;\n",
       "    }\n",
       "\n",
       "    .dataframe tbody tr th {\n",
       "        vertical-align: top;\n",
       "    }\n",
       "\n",
       "    .dataframe thead th {\n",
       "        text-align: right;\n",
       "    }\n",
       "</style>\n",
       "<table border=\"1\" class=\"dataframe\">\n",
       "  <thead>\n",
       "    <tr style=\"text-align: right;\">\n",
       "      <th></th>\n",
       "      <th>Row ID</th>\n",
       "      <th>Postal Code</th>\n",
       "      <th>Sales</th>\n",
       "      <th>Quantity</th>\n",
       "      <th>Discount</th>\n",
       "      <th>Profit</th>\n",
       "      <th>Shipping Cost</th>\n",
       "    </tr>\n",
       "  </thead>\n",
       "  <tbody>\n",
       "    <tr>\n",
       "      <th>count</th>\n",
       "      <td>51290.000</td>\n",
       "      <td>9994.000</td>\n",
       "      <td>51290.000</td>\n",
       "      <td>51290.000</td>\n",
       "      <td>51290.000</td>\n",
       "      <td>51290.000</td>\n",
       "      <td>51290.000</td>\n",
       "    </tr>\n",
       "    <tr>\n",
       "      <th>mean</th>\n",
       "      <td>25645.500</td>\n",
       "      <td>55190.379</td>\n",
       "      <td>246.491</td>\n",
       "      <td>3.477</td>\n",
       "      <td>0.143</td>\n",
       "      <td>28.611</td>\n",
       "      <td>26.376</td>\n",
       "    </tr>\n",
       "    <tr>\n",
       "      <th>std</th>\n",
       "      <td>14806.292</td>\n",
       "      <td>32063.693</td>\n",
       "      <td>487.565</td>\n",
       "      <td>2.279</td>\n",
       "      <td>0.212</td>\n",
       "      <td>174.341</td>\n",
       "      <td>57.297</td>\n",
       "    </tr>\n",
       "    <tr>\n",
       "      <th>min</th>\n",
       "      <td>1.000</td>\n",
       "      <td>1040.000</td>\n",
       "      <td>0.444</td>\n",
       "      <td>1.000</td>\n",
       "      <td>0.000</td>\n",
       "      <td>-6599.978</td>\n",
       "      <td>0.000</td>\n",
       "    </tr>\n",
       "    <tr>\n",
       "      <th>25%</th>\n",
       "      <td>12823.250</td>\n",
       "      <td>23223.000</td>\n",
       "      <td>30.759</td>\n",
       "      <td>2.000</td>\n",
       "      <td>0.000</td>\n",
       "      <td>0.000</td>\n",
       "      <td>2.610</td>\n",
       "    </tr>\n",
       "    <tr>\n",
       "      <th>50%</th>\n",
       "      <td>25645.500</td>\n",
       "      <td>56430.500</td>\n",
       "      <td>85.053</td>\n",
       "      <td>3.000</td>\n",
       "      <td>0.000</td>\n",
       "      <td>9.240</td>\n",
       "      <td>7.790</td>\n",
       "    </tr>\n",
       "    <tr>\n",
       "      <th>75%</th>\n",
       "      <td>38467.750</td>\n",
       "      <td>90008.000</td>\n",
       "      <td>251.053</td>\n",
       "      <td>5.000</td>\n",
       "      <td>0.200</td>\n",
       "      <td>36.810</td>\n",
       "      <td>24.450</td>\n",
       "    </tr>\n",
       "    <tr>\n",
       "      <th>max</th>\n",
       "      <td>51290.000</td>\n",
       "      <td>99301.000</td>\n",
       "      <td>22638.480</td>\n",
       "      <td>14.000</td>\n",
       "      <td>0.850</td>\n",
       "      <td>8399.976</td>\n",
       "      <td>933.570</td>\n",
       "    </tr>\n",
       "  </tbody>\n",
       "</table>\n",
       "</div>"
      ],
      "text/plain": [
       "         Row ID  Postal Code     Sales  Quantity  Discount    Profit  \\\n",
       "count 51290.000     9994.000 51290.000 51290.000 51290.000 51290.000   \n",
       "mean  25645.500    55190.379   246.491     3.477     0.143    28.611   \n",
       "std   14806.292    32063.693   487.565     2.279     0.212   174.341   \n",
       "min       1.000     1040.000     0.444     1.000     0.000 -6599.978   \n",
       "25%   12823.250    23223.000    30.759     2.000     0.000     0.000   \n",
       "50%   25645.500    56430.500    85.053     3.000     0.000     9.240   \n",
       "75%   38467.750    90008.000   251.053     5.000     0.200    36.810   \n",
       "max   51290.000    99301.000 22638.480    14.000     0.850  8399.976   \n",
       "\n",
       "       Shipping Cost  \n",
       "count      51290.000  \n",
       "mean          26.376  \n",
       "std           57.297  \n",
       "min            0.000  \n",
       "25%            2.610  \n",
       "50%            7.790  \n",
       "75%           24.450  \n",
       "max          933.570  "
      ]
     },
     "execution_count": 12,
     "metadata": {},
     "output_type": "execute_result"
    }
   ],
   "source": [
    "data.describe()"
   ]
  },
  {
   "cell_type": "markdown",
   "id": "b3078b1e",
   "metadata": {
    "papermill": {
     "duration": 0.008501,
     "end_time": "2024-05-12T18:03:03.569498",
     "exception": false,
     "start_time": "2024-05-12T18:03:03.560997",
     "status": "completed"
    },
    "tags": []
   },
   "source": [
    "**DROP unnecessary columns**"
   ]
  },
  {
   "cell_type": "code",
   "execution_count": 13,
   "id": "d73bbc60",
   "metadata": {
    "execution": {
     "iopub.execute_input": "2024-05-12T18:03:03.588778Z",
     "iopub.status.busy": "2024-05-12T18:03:03.588339Z",
     "iopub.status.idle": "2024-05-12T18:03:03.596512Z",
     "shell.execute_reply": "2024-05-12T18:03:03.595313Z"
    },
    "papermill": {
     "duration": 0.020806,
     "end_time": "2024-05-12T18:03:03.598890",
     "exception": false,
     "start_time": "2024-05-12T18:03:03.578084",
     "status": "completed"
    },
    "tags": []
   },
   "outputs": [
    {
     "data": {
      "text/plain": [
       "Index(['Row ID', 'Order ID', 'Order Date', 'Ship Date', 'Ship Mode',\n",
       "       'Customer ID', 'Customer Name', 'Segment', 'City', 'State', 'Country',\n",
       "       'Postal Code', 'Market', 'Region', 'Product ID', 'Category',\n",
       "       'Sub-Category', 'Product Name', 'Sales', 'Quantity', 'Discount',\n",
       "       'Profit', 'Shipping Cost', 'Order Priority'],\n",
       "      dtype='object')"
      ]
     },
     "execution_count": 13,
     "metadata": {},
     "output_type": "execute_result"
    }
   ],
   "source": [
    "data.columns"
   ]
  },
  {
   "cell_type": "code",
   "execution_count": 14,
   "id": "6d568d65",
   "metadata": {
    "execution": {
     "iopub.execute_input": "2024-05-12T18:03:03.618955Z",
     "iopub.status.busy": "2024-05-12T18:03:03.618575Z",
     "iopub.status.idle": "2024-05-12T18:03:03.632990Z",
     "shell.execute_reply": "2024-05-12T18:03:03.631533Z"
    },
    "papermill": {
     "duration": 0.028628,
     "end_time": "2024-05-12T18:03:03.636461",
     "exception": false,
     "start_time": "2024-05-12T18:03:03.607833",
     "status": "completed"
    },
    "tags": []
   },
   "outputs": [],
   "source": [
    "data= data.drop(['Row ID', 'Order ID', 'Customer ID', 'Postal Code'], axis = 1)"
   ]
  },
  {
   "cell_type": "code",
   "execution_count": 15,
   "id": "56706cc4",
   "metadata": {
    "execution": {
     "iopub.execute_input": "2024-05-12T18:03:03.657728Z",
     "iopub.status.busy": "2024-05-12T18:03:03.656158Z",
     "iopub.status.idle": "2024-05-12T18:03:03.665479Z",
     "shell.execute_reply": "2024-05-12T18:03:03.664066Z"
    },
    "papermill": {
     "duration": 0.023861,
     "end_time": "2024-05-12T18:03:03.669770",
     "exception": false,
     "start_time": "2024-05-12T18:03:03.645909",
     "status": "completed"
    },
    "tags": []
   },
   "outputs": [
    {
     "data": {
      "text/plain": [
       "Index(['Order Date', 'Ship Date', 'Ship Mode', 'Customer Name', 'Segment',\n",
       "       'City', 'State', 'Country', 'Market', 'Region', 'Product ID',\n",
       "       'Category', 'Sub-Category', 'Product Name', 'Sales', 'Quantity',\n",
       "       'Discount', 'Profit', 'Shipping Cost', 'Order Priority'],\n",
       "      dtype='object')"
      ]
     },
     "execution_count": 15,
     "metadata": {},
     "output_type": "execute_result"
    }
   ],
   "source": [
    "data.columns"
   ]
  },
  {
   "cell_type": "markdown",
   "id": "ed7d9e68",
   "metadata": {
    "papermill": {
     "duration": 0.009139,
     "end_time": "2024-05-12T18:03:03.687834",
     "exception": false,
     "start_time": "2024-05-12T18:03:03.678695",
     "status": "completed"
    },
    "tags": []
   },
   "source": [
    "**Hypothesis 1:** Technology products have highest profit margin compared to other product categories"
   ]
  },
  {
   "cell_type": "code",
   "execution_count": 16,
   "id": "7e7755be",
   "metadata": {
    "execution": {
     "iopub.execute_input": "2024-05-12T18:03:03.708424Z",
     "iopub.status.busy": "2024-05-12T18:03:03.708016Z",
     "iopub.status.idle": "2024-05-12T18:03:03.728411Z",
     "shell.execute_reply": "2024-05-12T18:03:03.726505Z"
    },
    "papermill": {
     "duration": 0.035641,
     "end_time": "2024-05-12T18:03:03.732664",
     "exception": false,
     "start_time": "2024-05-12T18:03:03.697023",
     "status": "completed"
    },
    "tags": []
   },
   "outputs": [
    {
     "data": {
      "text/plain": [
       "Category\n",
       "Furniture         285204.724\n",
       "Office Supplies   518473.834\n",
       "Technology        663778.733\n",
       "Name: Profit, dtype: float64"
      ]
     },
     "execution_count": 16,
     "metadata": {},
     "output_type": "execute_result"
    }
   ],
   "source": [
    "cat_data= data.groupby('Category')['Profit'].sum()\n",
    "cat_data"
   ]
  },
  {
   "cell_type": "code",
   "execution_count": 17,
   "id": "8955dc31",
   "metadata": {
    "execution": {
     "iopub.execute_input": "2024-05-12T18:03:03.762976Z",
     "iopub.status.busy": "2024-05-12T18:03:03.762337Z",
     "iopub.status.idle": "2024-05-12T18:03:04.182261Z",
     "shell.execute_reply": "2024-05-12T18:03:04.181058Z"
    },
    "papermill": {
     "duration": 0.438811,
     "end_time": "2024-05-12T18:03:04.184894",
     "exception": false,
     "start_time": "2024-05-12T18:03:03.746083",
     "status": "completed"
    },
    "tags": []
   },
   "outputs": [
    {
     "data": {
      "image/png": "[encoded data removed]",
      "text/plain": [
       "<Figure size 640x480 with 1 Axes>"
      ]
     },
     "metadata": {},
     "output_type": "display_data"
    }
   ],
   "source": [
    "cat_data.plot(kind='bar')\n",
    "plt.title(\"Profit by Category\")\n",
    "plt.xlabel(\"category\")\n",
    "plt.ylabel(\"Total Profit\")\n",
    "plt.show() \n",
    "\n",
    "# Hence the H1 has been proved correct"
   ]
  },
  {
   "cell_type": "markdown",
   "id": "4c35c5c1",
   "metadata": {
    "papermill": {
     "duration": 0.009932,
     "end_time": "2024-05-12T18:03:04.206031",
     "exception": false,
     "start_time": "2024-05-12T18:03:04.196099",
     "status": "completed"
    },
    "tags": []
   },
   "source": [
    "**Hypothesis 2:** The east region has highest sales as compared to other regions"
   ]
  },
  {
   "cell_type": "code",
   "execution_count": 18,
   "id": "a68a3c09",
   "metadata": {
    "execution": {
     "iopub.execute_input": "2024-05-12T18:03:04.229277Z",
     "iopub.status.busy": "2024-05-12T18:03:04.228181Z",
     "iopub.status.idle": "2024-05-12T18:03:04.245641Z",
     "shell.execute_reply": "2024-05-12T18:03:04.244418Z"
    },
    "papermill": {
     "duration": 0.032207,
     "end_time": "2024-05-12T18:03:04.249196",
     "exception": false,
     "start_time": "2024-05-12T18:03:04.216989",
     "status": "completed"
    },
    "tags": []
   },
   "outputs": [
    {
     "data": {
      "text/plain": [
       "Region\n",
       "Africa            783773.211\n",
       "Canada             66928.170\n",
       "Caribbean         324280.861\n",
       "Central          2822302.520\n",
       "Central Asia      752826.567\n",
       "EMEA              806161.311\n",
       "East              678781.240\n",
       "North            1248165.603\n",
       "North Asia        848309.781\n",
       "Oceania          1100184.612\n",
       "South            1600907.041\n",
       "Southeast Asia    884423.169\n",
       "West              725457.824\n",
       "Name: Sales, dtype: float64"
      ]
     },
     "execution_count": 18,
     "metadata": {},
     "output_type": "execute_result"
    }
   ],
   "source": [
    "reg_data = data.groupby('Region')['Sales'].sum()\n",
    "reg_data"
   ]
  },
  {
   "cell_type": "code",
   "execution_count": 19,
   "id": "3745c6bd",
   "metadata": {
    "execution": {
     "iopub.execute_input": "2024-05-12T18:03:04.281797Z",
     "iopub.status.busy": "2024-05-12T18:03:04.280561Z",
     "iopub.status.idle": "2024-05-12T18:03:04.611455Z",
     "shell.execute_reply": "2024-05-12T18:03:04.609977Z"
    },
    "papermill": {
     "duration": 0.350639,
     "end_time": "2024-05-12T18:03:04.615445",
     "exception": false,
     "start_time": "2024-05-12T18:03:04.264806",
     "status": "completed"
    },
    "tags": []
   },
   "outputs": [
    {
     "data": {
      "image/png": "[encoded data removed]",
      "text/plain": [
       "<Figure size 640x480 with 1 Axes>"
      ]
     },
     "metadata": {},
     "output_type": "display_data"
    }
   ],
   "source": [
    "reg_data.plot(kind='bar')\n",
    "plt.title(\"Sales by Region\")\n",
    "plt.xlabel(\"Region\")\n",
    "plt.ylabel(\"Total Sales\")\n",
    "plt.show() \n",
    "#H2 is not supported as the central region has the highest sales."
   ]
  },
  {
   "cell_type": "markdown",
   "id": "ec76d108",
   "metadata": {
    "papermill": {
     "duration": 0.011807,
     "end_time": "2024-05-12T18:03:04.642162",
     "exception": false,
     "start_time": "2024-05-12T18:03:04.630355",
     "status": "completed"
    },
    "tags": []
   },
   "source": [
    "**Hypothesis 3:** Sales are higher during certain months of the year"
   ]
  },
  {
   "cell_type": "code",
   "execution_count": 20,
   "id": "4c4dc4c7",
   "metadata": {
    "execution": {
     "iopub.execute_input": "2024-05-12T18:03:04.666595Z",
     "iopub.status.busy": "2024-05-12T18:03:04.665858Z",
     "iopub.status.idle": "2024-05-12T18:03:04.705528Z",
     "shell.execute_reply": "2024-05-12T18:03:04.703921Z"
    },
    "papermill": {
     "duration": 0.055268,
     "end_time": "2024-05-12T18:03:04.709015",
     "exception": false,
     "start_time": "2024-05-12T18:03:04.653747",
     "status": "completed"
    },
    "tags": []
   },
   "outputs": [],
   "source": [
    "data['Order Month'] = pd.DatetimeIndex(data['Order Date']).month\n",
    "\n",
    "month_data = data.groupby('Order Month')['Sales'].sum()"
   ]
  },
  {
   "cell_type": "code",
   "execution_count": 21,
   "id": "52ecf739",
   "metadata": {
    "execution": {
     "iopub.execute_input": "2024-05-12T18:03:04.737922Z",
     "iopub.status.busy": "2024-05-12T18:03:04.737413Z",
     "iopub.status.idle": "2024-05-12T18:03:05.030090Z",
     "shell.execute_reply": "2024-05-12T18:03:05.028747Z"
    },
    "papermill": {
     "duration": 0.308202,
     "end_time": "2024-05-12T18:03:05.033314",
     "exception": false,
     "start_time": "2024-05-12T18:03:04.725112",
     "status": "completed"
    },
    "tags": []
   },
   "outputs": [
    {
     "data": {
      "image/png": "[encoded data removed]",
      "text/plain": [
       "<Figure size 640x480 with 1 Axes>"
      ]
     },
     "metadata": {},
     "output_type": "display_data"
    }
   ],
   "source": [
    "month_data.plot(kind='line')\n",
    "plt.title(\"Sales by Month\")\n",
    "plt.xlabel(\"Month\")\n",
    "plt.ylabel(\"Total Sales\")\n",
    "plt.show() \n",
    "\n",
    "# This supports H3 hypothsis"
   ]
  },
  {
   "cell_type": "markdown",
   "id": "6743ab17",
   "metadata": {
    "papermill": {
     "duration": 0.010728,
     "end_time": "2024-05-12T18:03:05.055983",
     "exception": false,
     "start_time": "2024-05-12T18:03:05.045255",
     "status": "completed"
    },
    "tags": []
   },
   "source": [
    "****Hypothesis 4: ****Same day shipping have the lowest rate of returned products"
   ]
  },
  {
   "cell_type": "code",
   "execution_count": 22,
   "id": "c8db0077",
   "metadata": {
    "execution": {
     "iopub.execute_input": "2024-05-12T18:03:05.082278Z",
     "iopub.status.busy": "2024-05-12T18:03:05.081874Z",
     "iopub.status.idle": "2024-05-12T18:03:05.112005Z",
     "shell.execute_reply": "2024-05-12T18:03:05.110733Z"
    },
    "papermill": {
     "duration": 0.047346,
     "end_time": "2024-05-12T18:03:05.114611",
     "exception": false,
     "start_time": "2024-05-12T18:03:05.067265",
     "status": "completed"
    },
    "tags": []
   },
   "outputs": [
    {
     "data": {
      "text/plain": [
       "Ship Mode\n",
       "First Class      25.077\n",
       "Same Day         23.917\n",
       "Second Class     24.076\n",
       "Standard Class   24.481\n",
       "dtype: float64"
      ]
     },
     "execution_count": 22,
     "metadata": {},
     "output_type": "execute_result"
    }
   ],
   "source": [
    "total_orders_by_shipping_mode =  data.groupby('Ship Mode').size()\n",
    "\n",
    "returned_orders_by_shipping_mode =  data[data['Profit']<0].groupby('Ship Mode').size()\n",
    "returned_per_mode = (returned_orders_by_shipping_mode/total_orders_by_shipping_mode ) * 100\n",
    "returned_per_mode"
   ]
  },
  {
   "cell_type": "code",
   "execution_count": 23,
   "id": "836735bd",
   "metadata": {
    "execution": {
     "iopub.execute_input": "2024-05-12T18:03:05.138758Z",
     "iopub.status.busy": "2024-05-12T18:03:05.138376Z",
     "iopub.status.idle": "2024-05-12T18:03:05.415208Z",
     "shell.execute_reply": "2024-05-12T18:03:05.413295Z"
    },
    "papermill": {
     "duration": 0.293595,
     "end_time": "2024-05-12T18:03:05.419348",
     "exception": false,
     "start_time": "2024-05-12T18:03:05.125753",
     "status": "completed"
    },
    "tags": []
   },
   "outputs": [
    {
     "data": {
      "image/png": "[encoded data removed]",
      "text/plain": [
       "<Figure size 640x480 with 1 Axes>"
      ]
     },
     "metadata": {},
     "output_type": "display_data"
    }
   ],
   "source": [
    "returned_per_mode.plot(kind='bar')\n",
    "plt.title(\"Return per by shipping mode\")\n",
    "plt.xlabel(\"Shipping mode\")\n",
    "plt.ylabel(\"Return Per\")\n",
    "plt.show() \n",
    "\n",
    "# Hypothsis supporting  Same day shipping have the lowest rate of returned products"
   ]
  },
  {
   "cell_type": "markdown",
   "id": "001bdf0c",
   "metadata": {
    "papermill": {
     "duration": 0.016054,
     "end_time": "2024-05-12T18:03:05.452689",
     "exception": false,
     "start_time": "2024-05-12T18:03:05.436635",
     "status": "completed"
    },
    "tags": []
   },
   "source": [
    "**Hypothesis 5:** Company profit more on weekdays than on weekends"
   ]
  },
  {
   "cell_type": "code",
   "execution_count": 24,
   "id": "d63d9eeb",
   "metadata": {
    "execution": {
     "iopub.execute_input": "2024-05-12T18:03:05.484848Z",
     "iopub.status.busy": "2024-05-12T18:03:05.484223Z",
     "iopub.status.idle": "2024-05-12T18:03:05.531178Z",
     "shell.execute_reply": "2024-05-12T18:03:05.529767Z"
    },
    "papermill": {
     "duration": 0.066373,
     "end_time": "2024-05-12T18:03:05.534088",
     "exception": false,
     "start_time": "2024-05-12T18:03:05.467715",
     "status": "completed"
    },
    "tags": []
   },
   "outputs": [],
   "source": [
    "data['Order Day'] = pd.DatetimeIndex(data['Order Date']).day_name()"
   ]
  },
  {
   "cell_type": "code",
   "execution_count": 25,
   "id": "93cdc291",
   "metadata": {
    "execution": {
     "iopub.execute_input": "2024-05-12T18:03:05.559191Z",
     "iopub.status.busy": "2024-05-12T18:03:05.558786Z",
     "iopub.status.idle": "2024-05-12T18:03:05.573610Z",
     "shell.execute_reply": "2024-05-12T18:03:05.572436Z"
    },
    "papermill": {
     "duration": 0.030253,
     "end_time": "2024-05-12T18:03:05.576375",
     "exception": false,
     "start_time": "2024-05-12T18:03:05.546122",
     "status": "completed"
    },
    "tags": []
   },
   "outputs": [
    {
     "data": {
      "text/plain": [
       "Order Day\n",
       "Friday      243802.835\n",
       "Monday      246526.557\n",
       "Saturday    176486.552\n",
       "Sunday      104117.907\n",
       "Thursday    241183.080\n",
       "Tuesday     249788.051\n",
       "Wednesday   205552.309\n",
       "Name: Profit, dtype: float64"
      ]
     },
     "execution_count": 25,
     "metadata": {},
     "output_type": "execute_result"
    }
   ],
   "source": [
    "Profit_Days = data.groupby('Order Day')['Profit'].sum()\n",
    "Profit_Days"
   ]
  },
  {
   "cell_type": "code",
   "execution_count": 26,
   "id": "c77cd1d2",
   "metadata": {
    "execution": {
     "iopub.execute_input": "2024-05-12T18:03:05.601909Z",
     "iopub.status.busy": "2024-05-12T18:03:05.601527Z",
     "iopub.status.idle": "2024-05-12T18:03:05.855153Z",
     "shell.execute_reply": "2024-05-12T18:03:05.853976Z"
    },
    "papermill": {
     "duration": 0.268797,
     "end_time": "2024-05-12T18:03:05.857559",
     "exception": false,
     "start_time": "2024-05-12T18:03:05.588762",
     "status": "completed"
    },
    "tags": []
   },
   "outputs": [
    {
     "data": {
      "image/png": "[encoded data removed]",
      "text/plain": [
       "<Figure size 640x480 with 1 Axes>"
      ]
     },
     "metadata": {},
     "output_type": "display_data"
    }
   ],
   "source": [
    "Profit_Days.plot(kind='bar')\n",
    "plt.title(\"Prfit Vs Days of the week\")\n",
    "plt.xlabel(\"Days of the week\")\n",
    "plt.ylabel(\"Profit\")\n",
    "plt.show()\n",
    "\n",
    "# Hypothesis is Supported as complete profit is higher on weedays as compared to weekend"
   ]
  }
 ],
 "metadata": {
  "kaggle": {
   "accelerator": "none",
   "dataSources": [
    {
     "datasetId": 112707,
     "sourceId": 269167,
     "sourceType": "datasetVersion"
    }
   ],
   "dockerImageVersionId": 30698,
   "isGpuEnabled": false,
   "isInternetEnabled": true,
   "language": "python",
   "sourceType": "notebook"
  },
  "kernelspec": {
   "display_name": "Python 3",
   "language": "python",
   "name": "python3"
  },
  "language_info": {
   "codemirror_mode": {
    "name": "ipython",
    "version": 3
   },
   "file_extension": ".py",
   "mimetype": "text/x-python",
   "name": "python",
   "nbconvert_exporter": "python",
   "pygments_lexer": "ipython3",
   "version": "3.10.13"
  },
  "papermill": {
   "default_parameters": {},
   "duration": 9.698725,
   "end_time": "2024-05-12T18:03:06.491130",
   "environment_variables": {},
   "exception": null,
   "input_path": "__notebook__.ipynb",
   "output_path": "__notebook__.ipynb",
   "parameters": {},
   "start_time": "2024-05-12T18:02:56.792405",
   "version": "2.5.0"
  }
 },
 "nbformat": 4,
 "nbformat_minor": 5
}
